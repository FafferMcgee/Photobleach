{
 "cells": [
  {
   "cell_type": "markdown",
   "metadata": {},
   "source": [
    "# Checking the filtering of photobleaching data\n",
    "\n",
    "A way of seeing if I can reduce the # of data points prior to photobleach detection to make analysis faster"
   ]
  },
  {
   "cell_type": "code",
   "execution_count": 15,
   "metadata": {},
   "outputs": [
    {
     "name": "stdout",
     "output_type": "stream",
     "text": [
      "Current size: [12.0, 9.0]\n"
     ]
    }
   ],
   "source": [
    "import matplotlib.pyplot as plt\n",
    " \n",
    "# Get current size\n",
    "fig_size = plt.rcParams[\"figure.figsize\"]\n",
    " \n",
    "# Prints: [8.0, 6.0]\n",
    "print (\"Current size:\", fig_size)\n",
    " \n",
    "# Set figure width to 12 and height to 9\n",
    "fig_size[0] = 12\n",
    "fig_size[1] = 12\n",
    "plt.rcParams[\"figure.figsize\"] = fig_size"
   ]
  },
  {
   "cell_type": "code",
   "execution_count": 2,
   "metadata": {},
   "outputs": [],
   "source": [
    "\"\"\"\n",
    "Non-linear filter adapted from Chung and Kennedy\n",
    "\"\"\"\n",
    "\n",
    "import numpy as np\n",
    "\n",
    "\n",
    "def nfl_filter(traj, windows, M, p):\n",
    "    \"\"\"\n",
    "    Parameters\n",
    "    ----------\n",
    "    traj: numpy 1-D array\n",
    "        trajectory\n",
    "    windows: list of ints\n",
    "        lengths of windows to calculate forward and reverse predictors\n",
    "    M: int\n",
    "      size of window over which the predictors are to be compared\n",
    "    p: int\n",
    "       weighting factor\n",
    "    Returns\n",
    "    -------\n",
    "    filtered_traj: numpy 1-D arraay\n",
    "        NLF filtered trajectory\n",
    "    \"\"\"\n",
    "    start_index = max(windows) + M\n",
    "    filtered_traj = np.zeros(len(traj)-2*start_index)\n",
    "    I_forward = np.zeros((len(windows), len(traj) - 2*start_index))\n",
    "    I_reverse = np.zeros((len(windows), len(traj) - 2*start_index))\n",
    "    for i in range(I_forward.shape[-1]):\n",
    "        for j, k in enumerate(windows):\n",
    "            I_forward[j,i] = forward_predictor(traj, k, i+start_index-1)\n",
    "            I_reverse[j,i] = reverse_predictor(traj, k, i+start_index-1)\n",
    "    for i in range(start_index, len(traj) - start_index):\n",
    "        f_k = np.zeros(len(windows))\n",
    "        b_k = np.zeros(len(windows))\n",
    "        for j, k in enumerate(windows):\n",
    "            for m in range(M-1):\n",
    "                f_k[j] += (traj[i-m] - I_forward[j, i-m-start_index])**2\n",
    "                b_k[j] += (traj[i-m] - I_reverse[j, i-m-start_index])**2\n",
    "            f_k[j] = f_k[j]**-p\n",
    "            b_k[j] = b_k[j]**-p\n",
    "        c = f_k.sum() + b_k.sum()\n",
    "\n",
    "        for k in range(len(windows)):\n",
    "            filtered_traj[i-start_index] += f_k[k]*I_forward[k, i-start_index] + \\\n",
    "            b_k[k]*I_reverse[k, i-start_index]\n",
    "        filtered_traj[i-start_index] /= c\n",
    "    return filtered_traj\n",
    "\n",
    "\n",
    "def forward_predictor(traj, N, i):\n",
    "    \"\"\"\n",
    "    Parameters\n",
    "    ----------\n",
    "    traj: numpy array\n",
    "        trajectory\n",
    "    N: int\n",
    "        size of window\n",
    "    i: int\n",
    "        index\n",
    "    Returns\n",
    "    -------\n",
    "    average intensity of forward window\n",
    "    \"\"\"\n",
    "    return sum(traj[i-N:i-1])/N\n",
    "\n",
    "\n",
    "def reverse_predictor(traj, N, i):\n",
    "    \"\"\"\n",
    "    Parameters\n",
    "    ----------\n",
    "    traj: numpy array\n",
    "        trajectory\n",
    "    N: int\n",
    "        size of window\n",
    "    i: int\n",
    "        index\n",
    "    Returns\n",
    "    -------\n",
    "    average intensity of reverse window\n",
    "    \"\"\"\n",
    "    return sum(traj[i+1:i+N])/N"
   ]
  },
  {
   "cell_type": "code",
   "execution_count": 5,
   "metadata": {},
   "outputs": [],
   "source": [
    "import numpy as np\n",
    "import scipy as sp\n",
    "import matplotlib.pyplot as plt\n",
    "from scipy import signal\n",
    "import pandas as pd\n"
   ]
  },
  {
   "cell_type": "code",
   "execution_count": 6,
   "metadata": {},
   "outputs": [],
   "source": [
    "# Import data\n",
    "\n",
    "data = pd.read_csv(\"D:/smFret/Movies/schamber/20190118MRS_CasR_SNAP_Cy5_BleachingTest/CasR/Film1/1 tr1.dat\", header=None, delimiter=r\"\\s+\")"
   ]
  },
  {
   "cell_type": "code",
   "execution_count": 7,
   "metadata": {},
   "outputs": [
    {
     "data": {
      "text/html": [
       "<div>\n",
       "<style scoped>\n",
       "    .dataframe tbody tr th:only-of-type {\n",
       "        vertical-align: middle;\n",
       "    }\n",
       "\n",
       "    .dataframe tbody tr th {\n",
       "        vertical-align: top;\n",
       "    }\n",
       "\n",
       "    .dataframe thead th {\n",
       "        text-align: right;\n",
       "    }\n",
       "</style>\n",
       "<table border=\"1\" class=\"dataframe\">\n",
       "  <thead>\n",
       "    <tr style=\"text-align: right;\">\n",
       "      <th></th>\n",
       "      <th>0</th>\n",
       "      <th>1</th>\n",
       "      <th>2</th>\n",
       "    </tr>\n",
       "  </thead>\n",
       "  <tbody>\n",
       "    <tr>\n",
       "      <th>0</th>\n",
       "      <td>0.00</td>\n",
       "      <td>-34.0</td>\n",
       "      <td>23048.0</td>\n",
       "    </tr>\n",
       "    <tr>\n",
       "      <th>1</th>\n",
       "      <td>0.03</td>\n",
       "      <td>90.0</td>\n",
       "      <td>22329.0</td>\n",
       "    </tr>\n",
       "    <tr>\n",
       "      <th>2</th>\n",
       "      <td>0.06</td>\n",
       "      <td>39.0</td>\n",
       "      <td>23294.0</td>\n",
       "    </tr>\n",
       "    <tr>\n",
       "      <th>3</th>\n",
       "      <td>0.09</td>\n",
       "      <td>113.0</td>\n",
       "      <td>22834.0</td>\n",
       "    </tr>\n",
       "    <tr>\n",
       "      <th>4</th>\n",
       "      <td>0.12</td>\n",
       "      <td>46.0</td>\n",
       "      <td>22358.0</td>\n",
       "    </tr>\n",
       "  </tbody>\n",
       "</table>\n",
       "</div>"
      ],
      "text/plain": [
       "      0      1        2\n",
       "0  0.00  -34.0  23048.0\n",
       "1  0.03   90.0  22329.0\n",
       "2  0.06   39.0  23294.0\n",
       "3  0.09  113.0  22834.0\n",
       "4  0.12   46.0  22358.0"
      ]
     },
     "execution_count": 7,
     "metadata": {},
     "output_type": "execute_result"
    }
   ],
   "source": [
    "data.head()"
   ]
  },
  {
   "cell_type": "code",
   "execution_count": 8,
   "metadata": {},
   "outputs": [
    {
     "data": {
      "text/plain": [
       "0    23048.0\n",
       "1    22329.0\n",
       "2    23294.0\n",
       "3    22834.0\n",
       "4    22358.0\n",
       "Name: 2, dtype: float64"
      ]
     },
     "execution_count": 8,
     "metadata": {},
     "output_type": "execute_result"
    }
   ],
   "source": [
    "data[2].head()"
   ]
  },
  {
   "cell_type": "code",
   "execution_count": 9,
   "metadata": {},
   "outputs": [],
   "source": [
    "trajectory = data[2]\n",
    "\n",
    "windows = [2,4,8,16]\n",
    "M = 3\n",
    "p = 30\n",
    "filtered = nfl_filter(trajectory, windows, M, p)"
   ]
  },
  {
   "cell_type": "code",
   "execution_count": 16,
   "metadata": {},
   "outputs": [
    {
     "data": {
      "image/png": "[encoded data removed]",
      "text/plain": [
       "<Figure size 864x864 with 2 Axes>"
      ]
     },
     "metadata": {
      "needs_background": "light"
     },
     "output_type": "display_data"
    }
   ],
   "source": [
    "plt.subplot(2,1,1)\n",
    "plt.plot(range(len(trajectory)),trajectory)\n",
    "plt.title('input wave')\n",
    "plt.xlabel('time')\n",
    "plt.subplot(2,1,2)\n",
    "plt.plot(range(len(filtered)),filtered)\n",
    "plt.title('filtered wave')\n",
    "plt.xlabel('time')\n",
    "plt.show()"
   ]
  },
  {
   "cell_type": "code",
   "execution_count": null,
   "metadata": {},
   "outputs": [],
   "source": []
  }
 ],
 "metadata": {
  "kernelspec": {
   "display_name": "Python 3",
   "language": "python",
   "name": "python3"
  },
  "language_info": {
   "codemirror_mode": {
    "name": "ipython",
    "version": 3
   },
   "file_extension": ".py",
   "mimetype": "text/x-python",
   "name": "python",
   "nbconvert_exporter": "python",
   "pygments_lexer": "ipython3",
   "version": "3.6.7"
  }
 },
 "nbformat": 4,
 "nbformat_minor": 2
}
