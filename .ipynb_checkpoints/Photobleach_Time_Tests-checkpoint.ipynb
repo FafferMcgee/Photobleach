{
 "cells": [
  {
   "cell_type": "markdown",
   "metadata": {},
   "source": [
    "# Notebook testing parameter optimization for timing of photobleaching shiiiiiiiet"
   ]
  },
  {
   "cell_type": "code",
   "execution_count": null,
   "metadata": {},
   "outputs": [],
   "source": [
    "# Import libraries\n",
    "import os\n",
    "import numpy as np\n",
    "import random as rd\n",
    "import pandas as pd\n",
    "\n",
    "#%matplotlib inline\n",
    "import matplotlib.pyplot as plt\n",
    "import time\n",
    "from KalafutPUB import KalafutC\n",
    "from SeekerPUB import Slicer\n",
    "from LeffFinderPUB import LbarFind, PriorSlicer\n",
    "from SeekerPUB import mSICer"
   ]
  },
  {
   "cell_type": "code",
   "execution_count": null,
   "metadata": {},
   "outputs": [],
   "source": [
    "data = pd.read_csv(\"D:/smFret/Movies/schamber/20190121MRS_m2_SNAP_Bleaching_593TAGmCas/M2Snap/Film3/3 tr1.dat\",\n",
    "                   header=None, delimiter=r\"\\s+\")\n",
    "\n",
    "zignal = data.iloc[:,2:].values\n",
    "\n",
    "for x in np.nditer(zignal, op_flags=['readwrite']):\n",
    "    if x <= 0:\n",
    "        x[...] = 0.01\n",
    "        \n"
   ]
  },
  {
   "cell_type": "code",
   "execution_count": null,
   "metadata": {},
   "outputs": [],
   "source": [
    "signal = zignal[::-1]"
   ]
  },
  {
   "cell_type": "code",
   "execution_count": null,
   "metadata": {},
   "outputs": [],
   "source": [
    "t0 = time.time()\n",
    "Try1 = KalafutC(signal)\n",
    "t1 = time.time()\n",
    "\n",
    "stats = Try1.stats\n",
    "tzero = Try1.tzero\n",
    "\n",
    "print (\"number of datapoints:\",len(signal))\n",
    "print (\"First step:\", tzero)\n",
    "print (\"mean and variance of background:\", int(stats[0]),\"and\",int(stats[1]))\n",
    "print (\"mean and variance of single fluorophore:\", int(stats[2]),\"and\",int(stats[3]))\n"
   ]
  },
  {
   "cell_type": "code",
   "execution_count": null,
   "metadata": {},
   "outputs": [],
   "source": [
    "windsz = 20\n",
    "Prelook = Slicer(signal,windsz,0,stats) \n",
    "print (Prelook.fosfor)"
   ]
  },
  {
   "cell_type": "code",
   "execution_count": null,
   "metadata": {},
   "outputs": [],
   "source": [
    "precurs = np.zeros(len(signal))\n",
    "for i in range(0,len(precurs),1):\n",
    "    j = i//windsz\n",
    "    precurs[i] = Prelook.fosfor[j]*stats[2] +stats[0] \n",
    "\n",
    "dx = np.arange(0,len(signal))\n",
    "    \n",
    "plt.figure(1)\n",
    "plt.plot(dx, signal)\n",
    "plt.plot(dx, precurs, linewidth=3.0)\n",
    "plt.xlabel('reversed time (ms)')\n",
    "plt.ylabel('intensity (in a.u.)')\n",
    "plt.show()"
   ]
  },
  {
   "cell_type": "code",
   "execution_count": null,
   "metadata": {},
   "outputs": [],
   "source": [
    "t2 = time.time()\n",
    "calba = LbarFind(signal, stats, tzero, 0)                                   \n",
    "lbar = calba.Lbar                                                \n",
    "zamm = PriorSlicer(signal, lbar, tzero, 0)   \n",
    "lefaray = zamm.leffarray  \n",
    "\n",
    "widd = int(len(signal)/windsz)\n",
    "\n",
    "fluor = 0\n",
    "stepsC = np.zeros(1)\n",
    "for i in range(0,widd,1):\n",
    "    mSIClook = mSICer(signal, i, fluor, windsz, stats, len(signal), lefaray)                                                                     \n",
    "    steps_found = mSIClook.SIClocs                                            \n",
    "    stepsCi = np.zeros_like(steps_found)\n",
    "    levelz = fluor\n",
    "    for j in range(0,len(steps_found),1):                                     \n",
    "        stepsCi[j] = levelz\n",
    "        levelz += steps_found[j]\n",
    "    fluor = mSIClook.fluorOUT\n",
    "    stepsC = np.concatenate((stepsC,stepsCi))  \n",
    "\n",
    "    \n",
    "    \n",
    "    \n",
    "stepsC = stepsC[1:]\n",
    "t3 = time.time()"
   ]
  },
  {
   "cell_type": "code",
   "execution_count": null,
   "metadata": {},
   "outputs": [],
   "source": []
  }
 ],
 "metadata": {
  "kernelspec": {
   "display_name": "Python 3",
   "language": "python",
   "name": "python3"
  },
  "language_info": {
   "codemirror_mode": {
    "name": "ipython",
    "version": 3
   },
   "file_extension": ".py",
   "mimetype": "text/x-python",
   "name": "python",
   "nbconvert_exporter": "python",
   "pygments_lexer": "ipython3",
   "version": "3.6.7"
  }
 },
 "nbformat": 4,
 "nbformat_minor": 2
}
